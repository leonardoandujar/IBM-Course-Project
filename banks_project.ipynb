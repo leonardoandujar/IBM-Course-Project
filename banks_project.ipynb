{
 "cells": [
  {
   "cell_type": "markdown",
   "metadata": {},
   "source": [
    "Import libraries"
   ]
  },
  {
   "cell_type": "code",
   "execution_count": 1,
   "metadata": {},
   "outputs": [],
   "source": [
    "import requests\n",
    "from bs4 import BeautifulSoup\n",
    "import pandas as pd\n",
    "import sqlite3\n",
    "import numpy as np\n",
    "from datetime import datetime"
   ]
  },
  {
   "cell_type": "markdown",
   "metadata": {},
   "source": [
    "Set variables"
   ]
  },
  {
   "cell_type": "code",
   "execution_count": 5,
   "metadata": {},
   "outputs": [],
   "source": [
    "url = 'https://web.archive.org/web/20230908091635/https://en.wikipedia.org/wiki/List_of_largest_banks'"
   ]
  },
  {
   "cell_type": "markdown",
   "metadata": {},
   "source": [
    "Define the log function"
   ]
  },
  {
   "cell_type": "code",
   "execution_count": 3,
   "metadata": {},
   "outputs": [],
   "source": [
    "def log_progress(message):\n",
    "    now = datetime.now().strftime('%Y-%h-%d-%H:%M:%S')\n",
    "    with open(\"./code_log.txt\",\"a\") as f:\n",
    "        f.write(now + ' : ' + message + '\\n')"
   ]
  },
  {
   "cell_type": "markdown",
   "metadata": {},
   "source": [
    "Define the extract function\n",
    "The function receives the url and the columns of the table and returns a dataframe"
   ]
  },
  {
   "cell_type": "code",
   "execution_count": 72,
   "metadata": {},
   "outputs": [],
   "source": [
    "def extract(url, table_attribs):\n",
    "    page = requests.get(url).text\n",
    "    data = BeautifulSoup(page,'html.parser')\n",
    "    df = pd.DataFrame(columns=table_attribs)\n",
    "    tables = data.find_all('tbody')\n",
    "    rows = tables[0].find_all('tr')\n",
    "    for row in rows:\n",
    "        col = row.find_all('td')\n",
    "        if len(col) != 0:\n",
    "            data_dict = {\"Rank\" : col[0].text[0],\n",
    "                         \"Bank Name\" : col[1].find_all('a')[1].text,\n",
    "                         \"Market Cap\" : col[2].text.strip('\\n')}\n",
    "            print(data_dict)\n",
    "            #print(col[1].find_all('a')[1].text)"
   ]
  },
  {
   "cell_type": "code",
   "execution_count": 73,
   "metadata": {},
   "outputs": [
    {
     "name": "stdout",
     "output_type": "stream",
     "text": [
      "{'Rank': '1', 'Bank Name': 'JPMorgan Chase', 'Market Cap': '432.92'}\n",
      "{'Rank': '2', 'Bank Name': 'Bank of America', 'Market Cap': '231.52'}\n",
      "{'Rank': '3', 'Bank Name': 'Industrial and Commercial Bank of China', 'Market Cap': '194.56'}\n",
      "{'Rank': '4', 'Bank Name': 'Agricultural Bank of China', 'Market Cap': '160.68'}\n",
      "{'Rank': '5', 'Bank Name': 'HDFC Bank', 'Market Cap': '157.91'}\n",
      "{'Rank': '6', 'Bank Name': 'Wells Fargo', 'Market Cap': '155.87'}\n",
      "{'Rank': '7', 'Bank Name': 'HSBC Holdings PLC', 'Market Cap': '148.90'}\n",
      "{'Rank': '8', 'Bank Name': 'Morgan Stanley', 'Market Cap': '140.83'}\n",
      "{'Rank': '9', 'Bank Name': 'China Construction Bank', 'Market Cap': '139.82'}\n",
      "{'Rank': '1', 'Bank Name': 'Bank of China', 'Market Cap': '136.81'}\n"
     ]
    }
   ],
   "source": [
    "extract(url, ['Rank','Bank Name','Market Cap'])"
   ]
  }
 ],
 "metadata": {
  "kernelspec": {
   "display_name": "Python 3",
   "language": "python",
   "name": "python3"
  },
  "language_info": {
   "codemirror_mode": {
    "name": "ipython",
    "version": 3
   },
   "file_extension": ".py",
   "mimetype": "text/x-python",
   "name": "python",
   "nbconvert_exporter": "python",
   "pygments_lexer": "ipython3",
   "version": "3.11.4"
  }
 },
 "nbformat": 4,
 "nbformat_minor": 2
}
