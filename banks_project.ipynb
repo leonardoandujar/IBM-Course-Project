{
 "cells": [
  {
   "cell_type": "markdown",
   "metadata": {},
   "source": [
    "Import libraries"
   ]
  },
  {
   "cell_type": "code",
   "execution_count": 264,
   "metadata": {},
   "outputs": [],
   "source": [
    "import requests\n",
    "from bs4 import BeautifulSoup\n",
    "import pandas as pd\n",
    "import sqlite3\n",
    "import numpy as np\n",
    "from datetime import datetime"
   ]
  },
  {
   "cell_type": "markdown",
   "metadata": {},
   "source": [
    "Set variables"
   ]
  },
  {
   "cell_type": "code",
   "execution_count": 265,
   "metadata": {},
   "outputs": [],
   "source": [
    "url = 'https://web.archive.org/web/20230908091635/https://en.wikipedia.org/wiki/List_of_largest_banks'\n",
    "csv_file = './Largest_banks_data.csv'\n",
    "sql_connection = sqlite3.connect('Banks.db')"
   ]
  },
  {
   "cell_type": "markdown",
   "metadata": {},
   "source": [
    "Define the log function"
   ]
  },
  {
   "cell_type": "code",
   "execution_count": 266,
   "metadata": {},
   "outputs": [],
   "source": [
    "def log_progress(message):\n",
    "    now = datetime.now().strftime('%Y-%h-%d-%H:%M:%S')\n",
    "    with open(\"./code_log.txt\",\"a\") as f:\n",
    "        f.write(now + ' : ' + message + '\\n')"
   ]
  },
  {
   "cell_type": "markdown",
   "metadata": {},
   "source": [
    "Define the extract function\n",
    "The function receives the url and the columns of the table and returns a dataframe"
   ]
  },
  {
   "cell_type": "code",
   "execution_count": 267,
   "metadata": {},
   "outputs": [],
   "source": [
    "def extract(url, table_attribs):\n",
    "    page = requests.get(url).text\n",
    "    data = BeautifulSoup(page,'html.parser')\n",
    "    df = pd.DataFrame(columns=table_attribs)\n",
    "    tables = data.find_all('tbody')\n",
    "    rows = tables[0].find_all('tr')\n",
    "    for row in rows:\n",
    "        col = row.find_all('td')\n",
    "        if len(col) != 0:\n",
    "            data_dict = {\"Rank\" : col[0].text.strip('\\n'),\n",
    "                         \"Bank_Name\" : col[1].find_all('a')[1].text,\n",
    "                         \"MC_USD_Billion\" : float(col[2].text.strip('\\n'))}\n",
    "            df1 = pd.DataFrame(data_dict, index=[0])\n",
    "            df = pd.concat([df,df1], ignore_index=True)\n",
    "    return df\n"
   ]
  },
  {
   "cell_type": "markdown",
   "metadata": {},
   "source": [
    "Load exchange rates from CSV file"
   ]
  },
  {
   "cell_type": "code",
   "execution_count": 268,
   "metadata": {},
   "outputs": [],
   "source": [
    "def load_exchange_rates():\n",
    "    # load the csv file with the exchange rates and returns a dictionary with the values\n",
    "    rates = {}\n",
    "    df = pd.read_csv(\"./exchange_rate.csv\")\n",
    "    for index, row in df.iterrows():\n",
    "        rates[row['Currency']] = row['Rate']\n",
    "    return rates"
   ]
  },
  {
   "cell_type": "markdown",
   "metadata": {},
   "source": [
    "Transform the data into other currencies"
   ]
  },
  {
   "cell_type": "code",
   "execution_count": 269,
   "metadata": {},
   "outputs": [],
   "source": [
    "def transform(df):\n",
    "    df1 = df\n",
    "    df1['MC_GBP_Billion'] = [np.round(x*rates['GBP'],2) for x in df['MC_USD_Billion']]\n",
    "    df1['MC_EUR_Billion'] = [np.round(x*rates['EUR'],2) for x in df['MC_USD_Billion']]\n",
    "    df1['MC_INR_Billion'] = [np.round(x*rates['INR'],2) for x in df['MC_USD_Billion']]\n",
    "    return df.add(df1)"
   ]
  },
  {
   "cell_type": "markdown",
   "metadata": {},
   "source": [
    "Save the data to a CSV file"
   ]
  },
  {
   "cell_type": "code",
   "execution_count": 270,
   "metadata": {},
   "outputs": [],
   "source": [
    "def load_to_csv(df, csv_path):\n",
    "    df.to_csv(csv_path)"
   ]
  },
  {
   "cell_type": "markdown",
   "metadata": {},
   "source": [
    "Function to load to Sqlite DB"
   ]
  },
  {
   "cell_type": "code",
   "execution_count": 271,
   "metadata": {},
   "outputs": [],
   "source": [
    "def load_to_db(df, sql_connection, table_name):\n",
    "    df.to_sql(table_name, sql_connection, if_exists='replace', index=False)"
   ]
  },
  {
   "cell_type": "markdown",
   "metadata": {},
   "source": [
    "Function to run query on created database"
   ]
  },
  {
   "cell_type": "code",
   "execution_count": 272,
   "metadata": {},
   "outputs": [],
   "source": [
    "def run_query(query_statement, sql_connection):\n",
    "    query_output = pd.read_sql(query_statement, sql_connection)\n",
    "    return query_output"
   ]
  },
  {
   "cell_type": "code",
   "execution_count": 273,
   "metadata": {},
   "outputs": [
    {
     "ename": "ValueError",
     "evalue": "invalid literal for int() with base 10: 'Aug'",
     "output_type": "error",
     "traceback": [
      "\u001b[0;31m---------------------------------------------------------------------------\u001b[0m",
      "\u001b[0;31mValueError\u001b[0m                                Traceback (most recent call last)",
      "\u001b[1;32m/home/leonardo/Documentos/Course_project/banks_project.ipynb Cell 19\u001b[0m line \u001b[0;36m3\n\u001b[1;32m      <a href='vscode-notebook-cell:/home/leonardo/Documentos/Course_project/banks_project.ipynb#X30sZmlsZQ%3D%3D?line=0'>1</a>\u001b[0m log_progress(\u001b[39m'\u001b[39m\u001b[39mETL progress started\u001b[39m\u001b[39m'\u001b[39m)\n\u001b[0;32m----> <a href='vscode-notebook-cell:/home/leonardo/Documentos/Course_project/banks_project.ipynb#X30sZmlsZQ%3D%3D?line=2'>3</a>\u001b[0m df \u001b[39m=\u001b[39m extract(url, [\u001b[39m'\u001b[39;49m\u001b[39mRank\u001b[39;49m\u001b[39m'\u001b[39;49m,\u001b[39m'\u001b[39;49m\u001b[39mBank_Name\u001b[39;49m\u001b[39m'\u001b[39;49m,\u001b[39m'\u001b[39;49m\u001b[39mMC_USD_Billion\u001b[39;49m\u001b[39m'\u001b[39;49m])\n\u001b[1;32m      <a href='vscode-notebook-cell:/home/leonardo/Documentos/Course_project/banks_project.ipynb#X30sZmlsZQ%3D%3D?line=3'>4</a>\u001b[0m log_progress(\u001b[39m'\u001b[39m\u001b[39mData extraction complete\u001b[39m\u001b[39m'\u001b[39m)\n\u001b[1;32m      <a href='vscode-notebook-cell:/home/leonardo/Documentos/Course_project/banks_project.ipynb#X30sZmlsZQ%3D%3D?line=4'>5</a>\u001b[0m \u001b[39mprint\u001b[39m(df)\n",
      "\u001b[1;32m/home/leonardo/Documentos/Course_project/banks_project.ipynb Cell 19\u001b[0m line \u001b[0;36m1\n\u001b[1;32m      <a href='vscode-notebook-cell:/home/leonardo/Documentos/Course_project/banks_project.ipynb#X30sZmlsZQ%3D%3D?line=7'>8</a>\u001b[0m col \u001b[39m=\u001b[39m row\u001b[39m.\u001b[39mfind_all(\u001b[39m'\u001b[39m\u001b[39mtd\u001b[39m\u001b[39m'\u001b[39m)\n\u001b[1;32m      <a href='vscode-notebook-cell:/home/leonardo/Documentos/Course_project/banks_project.ipynb#X30sZmlsZQ%3D%3D?line=8'>9</a>\u001b[0m \u001b[39mif\u001b[39;00m \u001b[39mlen\u001b[39m(col) \u001b[39m!=\u001b[39m \u001b[39m0\u001b[39m:\n\u001b[0;32m---> <a href='vscode-notebook-cell:/home/leonardo/Documentos/Course_project/banks_project.ipynb#X30sZmlsZQ%3D%3D?line=9'>10</a>\u001b[0m     data_dict \u001b[39m=\u001b[39m {\u001b[39m\"\u001b[39m\u001b[39mRank\u001b[39m\u001b[39m\"\u001b[39m : \u001b[39mint\u001b[39;49m(col[\u001b[39m0\u001b[39;49m]\u001b[39m.\u001b[39;49mtext\u001b[39m.\u001b[39;49mstrip(\u001b[39m'\u001b[39;49m\u001b[39m\\n\u001b[39;49;00m\u001b[39m'\u001b[39;49m)),\n\u001b[1;32m     <a href='vscode-notebook-cell:/home/leonardo/Documentos/Course_project/banks_project.ipynb#X30sZmlsZQ%3D%3D?line=10'>11</a>\u001b[0m                  \u001b[39m\"\u001b[39m\u001b[39mBank_Name\u001b[39m\u001b[39m\"\u001b[39m : col[\u001b[39m1\u001b[39m]\u001b[39m.\u001b[39mfind_all(\u001b[39m'\u001b[39m\u001b[39ma\u001b[39m\u001b[39m'\u001b[39m)[\u001b[39m1\u001b[39m]\u001b[39m.\u001b[39mtext,\n\u001b[1;32m     <a href='vscode-notebook-cell:/home/leonardo/Documentos/Course_project/banks_project.ipynb#X30sZmlsZQ%3D%3D?line=11'>12</a>\u001b[0m                  \u001b[39m\"\u001b[39m\u001b[39mMC_USD_Billion\u001b[39m\u001b[39m\"\u001b[39m : \u001b[39mfloat\u001b[39m(col[\u001b[39m2\u001b[39m]\u001b[39m.\u001b[39mtext\u001b[39m.\u001b[39mstrip(\u001b[39m'\u001b[39m\u001b[39m\\n\u001b[39;00m\u001b[39m'\u001b[39m))}\n\u001b[1;32m     <a href='vscode-notebook-cell:/home/leonardo/Documentos/Course_project/banks_project.ipynb#X30sZmlsZQ%3D%3D?line=12'>13</a>\u001b[0m     df1 \u001b[39m=\u001b[39m pd\u001b[39m.\u001b[39mDataFrame(data_dict, index\u001b[39m=\u001b[39m[\u001b[39m0\u001b[39m])\n\u001b[1;32m     <a href='vscode-notebook-cell:/home/leonardo/Documentos/Course_project/banks_project.ipynb#X30sZmlsZQ%3D%3D?line=13'>14</a>\u001b[0m     df \u001b[39m=\u001b[39m pd\u001b[39m.\u001b[39mconcat([df,df1], ignore_index\u001b[39m=\u001b[39m\u001b[39mTrue\u001b[39;00m)\n",
      "\u001b[0;31mValueError\u001b[0m: invalid literal for int() with base 10: 'Aug'"
     ]
    }
   ],
   "source": [
    "log_progress('ETL progress started')\n",
    "\n",
    "df = extract(url, ['Rank','Bank_Name','MC_USD_Billion'])\n",
    "log_progress('Data extraction complete')\n",
    "print(df)\n",
    "rates = load_exchange_rates()\n",
    "log_progress('Exchange Rates loaded')\n",
    "\n",
    "df = transform(df)\n",
    "log_progress('Data transformation complete')\n",
    "\n",
    "load_to_csv(df, csv_file)\n",
    "log_progress('Dataframe saved to CSV file')\n",
    "\n",
    "load_to_db(df, sql_connection, 'Largest_banks')\n",
    "log_progress('Dataframe loaded onto DB')\n",
    "\n",
    "# print(run_query('select * from Largest_banks;', sql_connection))\n",
    "\n",
    "# print(run_query('select avg(MC_GBP_Billion) as \"avg\" from Largest_banks;', sql_connection))\n",
    "\n",
    "# print(run_query('select Bank_Name from Largest_banks limit 5;', sql_connection))"
   ]
  }
 ],
 "metadata": {
  "kernelspec": {
   "display_name": "Python 3",
   "language": "python",
   "name": "python3"
  },
  "language_info": {
   "codemirror_mode": {
    "name": "ipython",
    "version": 3
   },
   "file_extension": ".py",
   "mimetype": "text/x-python",
   "name": "python",
   "nbconvert_exporter": "python",
   "pygments_lexer": "ipython3",
   "version": "3.11.4"
  }
 },
 "nbformat": 4,
 "nbformat_minor": 2
}
