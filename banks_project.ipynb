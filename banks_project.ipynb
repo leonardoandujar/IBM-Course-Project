{
 "cells": [
  {
   "cell_type": "markdown",
   "metadata": {},
   "source": [
    "Import libraries"
   ]
  },
  {
   "cell_type": "code",
   "execution_count": 11,
   "metadata": {},
   "outputs": [],
   "source": [
    "import requests\n",
    "from bs4 import BeautifulSoup\n",
    "import pandas as pd\n",
    "import sqlite3\n",
    "import numpy as np\n",
    "from datetime import datetime"
   ]
  },
  {
   "cell_type": "markdown",
   "metadata": {},
   "source": [
    "Set variables"
   ]
  },
  {
   "cell_type": "code",
   "execution_count": 12,
   "metadata": {},
   "outputs": [],
   "source": [
    "url = 'https://web.archive.org/web/20230908091635/https://en.wikipedia.org/wiki/List_of_largest_banks'"
   ]
  },
  {
   "cell_type": "markdown",
   "metadata": {},
   "source": [
    "Define the log function"
   ]
  },
  {
   "cell_type": "code",
   "execution_count": 13,
   "metadata": {},
   "outputs": [],
   "source": [
    "def log_progress(message):\n",
    "    now = datetime.now().strftime('%Y-%h-%d-%H:%M:%S')\n",
    "    with open(\"./code_log.txt\",\"a\") as f:\n",
    "        f.write(now + ' : ' + message + '\\n')"
   ]
  },
  {
   "cell_type": "markdown",
   "metadata": {},
   "source": [
    "Define the extract function\n",
    "The function receives the url and the columns of the table and returns a dataframe"
   ]
  },
  {
   "cell_type": "code",
   "execution_count": 22,
   "metadata": {},
   "outputs": [],
   "source": [
    "def extract(url, table_attribs):\n",
    "    page = requests.get(url).text\n",
    "    data = BeautifulSoup(page,'html.parser')\n",
    "    df = pd.DataFrame(columns=table_attribs)\n",
    "    tables = data.find_all('tbody')\n",
    "    rows = tables[0].find_all('tr')\n",
    "    for row in rows:\n",
    "        col = row.find_all('td')\n",
    "        if len(col) != 0:\n",
    "            data_dict = {\"Rank\" : int(col[0].text.strip('\\n')),\n",
    "                         \"Bank Name\" : col[1].find_all('a')[1].text,\n",
    "                         \"Market Cap\" : float(col[2].text.strip('\\n'))}\n",
    "            df1 = pd.DataFrame(data_dict, index=[0])\n",
    "            df = pd.concat([df,df1], ignore_index=True)\n",
    "    return df\n"
   ]
  },
  {
   "cell_type": "code",
   "execution_count": 23,
   "metadata": {},
   "outputs": [
    {
     "name": "stdout",
     "output_type": "stream",
     "text": [
      "  Rank                                Bank Name  Market Cap\n",
      "0    1                           JPMorgan Chase      432.92\n",
      "1    2                          Bank of America      231.52\n",
      "2    3  Industrial and Commercial Bank of China      194.56\n",
      "3    4               Agricultural Bank of China      160.68\n",
      "4    5                                HDFC Bank      157.91\n",
      "5    6                              Wells Fargo      155.87\n",
      "6    7                        HSBC Holdings PLC      148.90\n",
      "7    8                           Morgan Stanley      140.83\n",
      "8    9                  China Construction Bank      139.82\n",
      "9   10                            Bank of China      136.81\n"
     ]
    }
   ],
   "source": [
    "df = extract(url, ['Rank','Bank Name','Market Cap'])\n",
    "log_progress('Data extraction complete')\n",
    "print(df)"
   ]
  }
 ],
 "metadata": {
  "kernelspec": {
   "display_name": "Python 3",
   "language": "python",
   "name": "python3"
  },
  "language_info": {
   "codemirror_mode": {
    "name": "ipython",
    "version": 3
   },
   "file_extension": ".py",
   "mimetype": "text/x-python",
   "name": "python",
   "nbconvert_exporter": "python",
   "pygments_lexer": "ipython3",
   "version": "3.11.4"
  }
 },
 "nbformat": 4,
 "nbformat_minor": 2
}
