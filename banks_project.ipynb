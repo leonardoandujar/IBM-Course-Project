{
 "cells": [
  {
   "cell_type": "markdown",
   "metadata": {},
   "source": [
    "Import libraries"
   ]
  },
  {
   "cell_type": "code",
   "execution_count": 244,
   "metadata": {},
   "outputs": [],
   "source": [
    "import requests\n",
    "from bs4 import BeautifulSoup\n",
    "import pandas as pd\n",
    "import sqlite3\n",
    "import numpy as np\n",
    "from datetime import datetime"
   ]
  },
  {
   "cell_type": "markdown",
   "metadata": {},
   "source": [
    "Set variables"
   ]
  },
  {
   "cell_type": "code",
   "execution_count": 245,
   "metadata": {},
   "outputs": [],
   "source": [
    "url = 'https://web.archive.org/web/20230908091635/https://en.wikipedia.org/wiki/List_of_largest_banks'\n",
    "csv_file = './Largest_banks_data.csv'\n",
    "sql_connection = sqlite3.connect('Banks.db')"
   ]
  },
  {
   "cell_type": "markdown",
   "metadata": {},
   "source": [
    "Define the log function"
   ]
  },
  {
   "cell_type": "code",
   "execution_count": 246,
   "metadata": {},
   "outputs": [],
   "source": [
    "def log_progress(message):\n",
    "    now = datetime.now().strftime('%Y-%h-%d-%H:%M:%S')\n",
    "    with open(\"./code_log.txt\",\"a\") as f:\n",
    "        f.write(now + ' : ' + message + '\\n')"
   ]
  },
  {
   "cell_type": "markdown",
   "metadata": {},
   "source": [
    "Define the extract function\n",
    "The function receives the url and the columns of the table and returns a dataframe"
   ]
  },
  {
   "cell_type": "code",
   "execution_count": 247,
   "metadata": {},
   "outputs": [],
   "source": [
    "def extract(url, table_attribs):\n",
    "    page = requests.get(url).text\n",
    "    data = BeautifulSoup(page,'html.parser')\n",
    "    df = pd.DataFrame(columns=table_attribs)\n",
    "    tables = data.find_all('tbody')\n",
    "    rows = tables[0].find_all('tr')\n",
    "    for row in rows:\n",
    "        col = row.find_all('td')\n",
    "        if len(col) != 0:\n",
    "            data_dict = {\"Rank\" : int(col[0].text.strip('\\n')),\n",
    "                         \"Bank_Name\" : col[1].find_all('a')[1].text,\n",
    "                         \"MC_USD_Billion\" : float(col[2].text.strip('\\n'))}\n",
    "            df1 = pd.DataFrame(data_dict, index=[0])\n",
    "            df = pd.concat([df,df1], ignore_index=True)\n",
    "    return df\n"
   ]
  },
  {
   "cell_type": "markdown",
   "metadata": {},
   "source": [
    "Load exchange rates from CSV file"
   ]
  },
  {
   "cell_type": "code",
   "execution_count": 248,
   "metadata": {},
   "outputs": [],
   "source": [
    "def load_exchange_rates():\n",
    "    # load the csv file with the exchange rates and returns a dictionary with the values\n",
    "    rates = {}\n",
    "    df = pd.read_csv(\"./exchange_rate.csv\")\n",
    "    for index, row in df.iterrows():\n",
    "        rates[row['Currency']] = row['Rate']\n",
    "    return rates"
   ]
  },
  {
   "cell_type": "markdown",
   "metadata": {},
   "source": [
    "Transform the data into other currencies"
   ]
  },
  {
   "cell_type": "code",
   "execution_count": 249,
   "metadata": {},
   "outputs": [],
   "source": [
    "def transform(df):\n",
    "    df1 = df\n",
    "    df1['MC_GBP_Billion'] = [np.round(x*rates['GBP'],2) for x in df['MC_USD_Billion']]\n",
    "    df1['MC_EUR_Billion'] = [np.round(x*rates['EUR'],2) for x in df['MC_USD_Billion']]\n",
    "    df1['MC_INR_Billion'] = [np.round(x*rates['INR'],2) for x in df['MC_USD_Billion']]\n",
    "    return df.add(df1)"
   ]
  },
  {
   "cell_type": "markdown",
   "metadata": {},
   "source": [
    "Save the data to a CSV file"
   ]
  },
  {
   "cell_type": "code",
   "execution_count": 250,
   "metadata": {},
   "outputs": [],
   "source": [
    "def load_to_csv(df, csv_path):\n",
    "    df.to_csv(csv_path)"
   ]
  },
  {
   "cell_type": "markdown",
   "metadata": {},
   "source": [
    "Function to load to Sqlite DB"
   ]
  },
  {
   "cell_type": "code",
   "execution_count": 251,
   "metadata": {},
   "outputs": [],
   "source": [
    "def load_to_db(df, sql_connection, table_name):\n",
    "    df.to_sql(table_name, sql_connection, if_exists='replace', index=False)"
   ]
  },
  {
   "cell_type": "markdown",
   "metadata": {},
   "source": [
    "Function to run query on created database"
   ]
  },
  {
   "cell_type": "code",
   "execution_count": 252,
   "metadata": {},
   "outputs": [],
   "source": [
    "def run_query(query_statement, sql_connection):\n",
    "    query_output = pd.read_sql(query_statement, sql_connection)\n",
    "    return query_output"
   ]
  },
  {
   "cell_type": "code",
   "execution_count": 253,
   "metadata": {},
   "outputs": [
    {
     "name": "stdout",
     "output_type": "stream",
     "text": [
      "   Rank                                          Bank_Name  MC_USD_Billion  \\\n",
      "0     2                       JPMorgan ChaseJPMorgan Chase          865.84   \n",
      "1     4                     Bank of AmericaBank of America          463.04   \n",
      "2     6  Industrial and Commercial Bank of ChinaIndustr...          389.12   \n",
      "3     8  Agricultural Bank of ChinaAgricultural Bank of...          321.36   \n",
      "4    10                                 HDFC BankHDFC Bank          315.82   \n",
      "5    12                             Wells FargoWells Fargo          311.74   \n",
      "6    14                 HSBC Holdings PLCHSBC Holdings PLC          297.80   \n",
      "7    16                       Morgan StanleyMorgan Stanley          281.66   \n",
      "8    18     China Construction BankChina Construction Bank          279.64   \n",
      "9    20                         Bank of ChinaBank of China          273.62   \n",
      "\n",
      "   MC_GBP_Billion  MC_EUR_Billion  MC_INR_Billion  \n",
      "0          692.68          805.24        71821.42  \n",
      "1          370.44          430.62        38409.16  \n",
      "2          311.30          361.88        32277.50  \n",
      "3          257.08          298.86        26656.82  \n",
      "4          252.66          293.72        26197.26  \n",
      "5          249.40          289.92        25858.84  \n",
      "6          238.24          276.96        24702.52  \n",
      "7          225.32          261.94        23363.70  \n",
      "8          223.72          260.06        23196.14  \n",
      "9          218.90          254.46        22696.78  \n",
      "   avg(MC_GBP_Billion)\n",
      "0              303.974\n",
      "                                           Bank_Name\n",
      "0                       JPMorgan ChaseJPMorgan Chase\n",
      "1                     Bank of AmericaBank of America\n",
      "2  Industrial and Commercial Bank of ChinaIndustr...\n",
      "3  Agricultural Bank of ChinaAgricultural Bank of...\n",
      "4                                 HDFC BankHDFC Bank\n"
     ]
    }
   ],
   "source": [
    "log_progress('ETL progress started')\n",
    "\n",
    "df = extract(url, ['Rank','Bank_Name','MC_USD_Billion'])\n",
    "log_progress('Data extraction complete')\n",
    "\n",
    "rates = load_exchange_rates()\n",
    "log_progress('Exchange Rates loaded')\n",
    "\n",
    "df = transform(df)\n",
    "log_progress('Data transformation complete')\n",
    "\n",
    "load_to_csv(df, csv_file)\n",
    "log_progress('Dataframe saved to CSV file')\n",
    "\n",
    "load_to_db(df, sql_connection, 'Largest_banks')\n",
    "log_progress('Dataframe loaded onto DB')\n",
    "\n",
    "print(run_query('select * from Largest_banks;', sql_connection))\n",
    "\n",
    "print(run_query('select avg(MC_GBP_Billion) as \"avg\" from Largest_banks;', sql_connection))\n",
    "\n",
    "print(run_query('select Bank_Name from Largest_banks limit 5;', sql_connection))"
   ]
  }
 ],
 "metadata": {
  "kernelspec": {
   "display_name": "Python 3",
   "language": "python",
   "name": "python3"
  },
  "language_info": {
   "codemirror_mode": {
    "name": "ipython",
    "version": 3
   },
   "file_extension": ".py",
   "mimetype": "text/x-python",
   "name": "python",
   "nbconvert_exporter": "python",
   "pygments_lexer": "ipython3",
   "version": "3.11.4"
  }
 },
 "nbformat": 4,
 "nbformat_minor": 2
}
